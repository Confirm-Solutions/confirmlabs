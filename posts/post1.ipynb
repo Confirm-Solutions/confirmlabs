{
  "cells": [
    {
      "cell_type": "markdown",
      "metadata": {},
      "source": [
        "# A Quarto Page Layout Example\n",
        "\n",
        "Inspired by Tufte Handout, Using Quarto\n",
        "\n",
        "# Introduction\n",
        "\n",
        "This document demonstrates the use of a number of advanced page layout\n",
        "features to produce an attractive and usable document inspired by the\n",
        "Tufte handout style and the use of Tufte’s styles in RMarkdown documents\n",
        "(Xie, Allaire, and Grolemund 2018). The Tufte handout style is a style\n",
        "that Edward Tufte uses in his books and handouts. Tufte’s style is known\n",
        "for its extensive use of sidenotes, tight integration of graphics with\n",
        "text, and well-set typography. Quarto[1] supports most of the layout\n",
        "techniques that are used in the Tufte handout style for both HTML and\n",
        "LaTeX/PDF output.\n",
        "\n",
        "``` yaml\n",
        "---\n",
        "title: \"An Example Using the Tufte Style\"\n",
        "author: \"John Smith\"\n",
        "format:\n",
        "  html:\n",
        "    grid:\n",
        "      margin-width: 350px\n",
        "  pdf: default\n",
        "reference-location: margin\n",
        "citation-location: margin\n",
        "---\n",
        "```\n",
        "\n",
        "Line 7  \n",
        "Increases the width of the margin to make more room for sidenotes and\n",
        "margin figures (HTML only).\n",
        "\n",
        "Lines 9-10  \n",
        "Places footnotes and cited sources in the margin. Other layout options\n",
        "(for example placing a figure in the margin) will be set per element in\n",
        "examples below.\n",
        "\n",
        "These layout features are designed with two important goals in mind:\n",
        "\n",
        "1.  To produce both PDF and HTML output with similar styles from the\n",
        "    same Quarto document;\n",
        "2.  To provide simple syntax to write elements of the Tufte style such\n",
        "    as side notes and margin figures. If you’d like a figure placed in\n",
        "    the margin, just set the option `fig-column: margin` for your code\n",
        "    chunk, and we will take care of the details for you[2].\n",
        "\n",
        "If you have any feature requests or find bugs in these capabilities,\n",
        "please do not hesitate to file them to\n",
        "<https://github.com/quarto-dev/quarto-cli/issues>.\n",
        "\n",
        "# Figures\n",
        "\n",
        "## Margin Figures\n",
        "\n",
        "Images and graphics play an integral role in Tufte’s work. To place\n",
        "figures in the margin you can use the **Quarto** chunk option\n",
        "`column: margin`. For example:\n",
        "\n",
        "[1] To learn more, you can read more about\n",
        "[Quarto](https://www.quarto.org) or visit [Quarto’s Github\n",
        "repository](https://www.github.com/quarto-dev/quarto-cli).\n",
        "\n",
        "[2] You never need to think about `\\begin{marginfigure}` or\n",
        "`<span class=\"marginfigure\">`; the LaTeX and HTML code under the hood\n",
        "may be complicated, but you never need to learn or write such code."
      ],
      "id": "94b8e089-9426-4ff0-8dc0-80bbb1a22a25"
    },
    {
      "cell_type": "code",
      "execution_count": 1,
      "metadata": {},
      "outputs": [],
      "source": [
        "import numpy as np\n",
        "import matplotlib.pyplot as plt\n",
        "\n",
        "r = np.arange(0, 2, 0.01)\n",
        "theta = 2 * np.pi * r\n",
        "fig, ax = plt.subplots(\n",
        "  figsize=(2,2),\n",
        "  subplot_kw = {'projection': 'polar'} \n",
        ")\n",
        "ax.plot(theta, r)\n",
        "ax.set_rticks([0.5, 1, 1.5, 2])\n",
        "ax.grid(True)\n",
        "plt.show()"
      ],
      "id": "fig-polar"
    },
    {
      "cell_type": "markdown",
      "metadata": {},
      "source": [
        "Note the use of the `fig-cap` chunk option to provide a figure caption.\n",
        "You can adjust the proportions of figures using the `fig-width` and\n",
        "`fig-height` chunk options. These are specified in inches, and will be\n",
        "automatically scaled down to fit within the handout margin.\n",
        "\n",
        "## Arbitrary Margin Content\n",
        "\n",
        "You can include anything in the margin by places the class\n",
        "`.column-margin` on the element. See an example on the right about the\n",
        "first fundamental theorem of calculus.\n",
        "\n",
        "We know from *the first fundamental theorem of calculus* that for $x$ in\n",
        "$[a, b]$:\n",
        "\n",
        "$$\\frac{d}{dx}\\left( \\int_{a}^{x} f(u)\\,du\\right)=f(x).$$\n",
        "\n",
        "## Full Width Figures\n",
        "\n",
        "You can arrange for figures to span across the entire page by using the\n",
        "chunk option `fig-column: page-right`."
      ],
      "id": "a104a126-d9bb-4245-9899-e142ed88753b"
    },
    {
      "cell_type": "code",
      "execution_count": 2,
      "metadata": {
        "fig-height": 3,
        "fig-width": 11
      },
      "outputs": [],
      "source": [
        "x = np.linspace(0, 2, 100)\n",
        "plt.figure(figsize=(11,3))\n",
        "plt.subplot(1,3,1)\n",
        "plt.plot(x, np.cos(x))\n",
        "plt.subplot(1,3,2)\n",
        "plt.plot(x, np.sin(x))\n",
        "plt.subplot(1,3,3)\n",
        "plt.plot(x, np.tan(x))"
      ],
      "id": "fig-fullwidth"
    },
    {
      "cell_type": "markdown",
      "metadata": {},
      "source": [
        "Other chunk options related to figures can still be used, such as\n",
        "`fig-width`, `fig-cap`, and so on. For full width figures, usually\n",
        "`fig-width` is large and `fig-height` is small. In the above example,\n",
        "the plot size is $11 \\times 3$.\n",
        "\n",
        "## Arbitrary Full Width Content\n",
        "\n",
        "Any content can span to the full width of the page, simply place the\n",
        "element in a `div` and add the class `column-page-right`. For example,\n",
        "the following code will display its contents as full width.\n",
        "\n",
        "``` md\n",
        "::: {.fullwidth}\n",
        "Any _full width_ content here.\n",
        ":::\n",
        "```\n",
        "\n",
        "Below is an example:\n",
        "\n",
        "*R is free software and comes with ABSOLUTELY NO WARRANTY.* You are\n",
        "welcome to redistribute it under the terms of the GNU General Public\n",
        "License versions 2 or 3. For more information about these matters see\n",
        "<https://www.gnu.org/licenses/>.\n",
        "\n",
        "## Main Column Figures\n",
        "\n",
        "Besides margin and full width figures, you can of course also include\n",
        "figures constrained to the main column. This is the default type of\n",
        "figures in the LaTeX/HTML output."
      ],
      "id": "4fd0afaa-b579-4c4c-a071-9b8875cbeb2c"
    },
    {
      "cell_type": "code",
      "execution_count": 3,
      "metadata": {},
      "outputs": [
        {
          "output_type": "display_data",
          "metadata": {},
          "data": {
            "image/png": "[encoded data removed]"
          }
        }
      ],
      "source": [
        "x = np.random.normal(size=10000)\n",
        "plt.hist(x, bins=100)\n",
        "plt.show()"
      ],
      "id": "fig-main"
    },
    {
      "cell_type": "markdown",
      "metadata": {},
      "source": [
        "## Margin Captions\n",
        "\n",
        "When you include a figure constrained to the main column, you can choose\n",
        "to place the figure’s caption in the margin by using the `cap-location`\n",
        "chunk option. For example:"
      ],
      "id": "659f8591-f7f9-47ac-bfbf-7d5ce717c59c"
    },
    {
      "cell_type": "code",
      "execution_count": 4,
      "metadata": {},
      "outputs": [
        {
          "output_type": "display_data",
          "metadata": {},
          "data": {
            "image/png": "[encoded data removed]"
          }
        }
      ],
      "source": [
        "x = np.random.normal(size=10000)\n",
        "plt.hist(x, bins=100)\n",
        "plt.show()"
      ],
      "id": "fig-main-margin-cap"
    },
    {
      "cell_type": "markdown",
      "metadata": {},
      "source": [
        "# Sidenotes\n",
        "\n",
        "One of the most prominent and distinctive features of this style is the\n",
        "extensive use of sidenotes. There is a wide margin to provide ample room\n",
        "for sidenotes and small figures. Any use of a footnote will\n",
        "automatically be converted to a sidenote.\n",
        "\n",
        "<span class=\"column-margin\">This is a span that has the class\n",
        "`column-margin` which places it in the margin without the sidenote\n",
        "mark.</span> If you’d like to place ancillary information in the margin\n",
        "without the sidenote mark (the superscript number), you can use apply\n",
        "the `column-margin` class to the element.\n",
        "\n",
        "# References\n",
        "\n",
        "References can be displayed as margin notes for HTML output. For\n",
        "example, we can cite R here (R Core Team 2021).\n",
        "\n",
        "> **Note**\n",
        ">\n",
        "> This feature depends upon `link-citations` to locate and place\n",
        "> references in the margin. This is enabled by default, but if you\n",
        "> disable `link-citations` then references in the HTML output will be\n",
        "> placed at the end of the output document as they normally are.\n",
        "\n",
        "# Tables"
      ],
      "id": "26904a29-7583-450c-9e01-55a796b34bba"
    },
    {
      "cell_type": "code",
      "execution_count": 5,
      "metadata": {},
      "outputs": [
        {
          "output_type": "display_data",
          "metadata": {},
          "data": {}
        }
      ],
      "source": [
        "from IPython.display import Markdown\n",
        "from tabulate import tabulate\n",
        "table = [[\"Sun\",696000,1989100000],\n",
        "         [\"Earth\",6371,5973.6],\n",
        "         [\"Moon\",1737,73.5],\n",
        "         [\"Mars\",3390,641.85]]\n",
        "Markdown(tabulate(\n",
        "  table, \n",
        "  headers=[\"Planet\",\"R (km)\", \"mass (x 10^29 kg)\"]\n",
        "))"
      ],
      "id": "02542d41-9ed7-4081-a17e-d417ee9a9a71"
    },
    {
      "cell_type": "markdown",
      "metadata": {},
      "source": [
        "# Responsiveness\n",
        "\n",
        "The HTML page layout is responsive- as the page width shrinks, elements\n",
        "will automatically adjust their position. Elements that appear in the\n",
        "margins will move inline with the content and elements that span the\n",
        "body and margin will automatically span only the body.\n",
        "\n",
        "# Some Notes on Page Layout\n",
        "\n",
        "To see the Quarto markdown source of this example document, you may\n",
        "follow [this link to\n",
        "Github](https://raw.githubusercontent.com/quarto-dev/quarto-gallery/main/page-layout/tufte.qmd).\n",
        "\n",
        "R Core Team. 2021. *R: A Language and Environment for Statistical\n",
        "Computing*. Vienna, Austria: R Foundation for Statistical Computing.\n",
        "<https://www.R-project.org/>.\n",
        "\n",
        "Xie, Yihui, J. J. Allaire, and Garrett Grolemund. 2018. “Tufte\n",
        "Handouts.” In *R Markdown: The Definitive Guide*, 137–46. Chapman;\n",
        "Hall/CRC. <https://doi.org/10.1201/9781138359444-6>."
      ],
      "id": "175f66c9-298e-4bfa-88e2-59a685e4d843"
    }
  ],
  "nbformat": 4,
  "nbformat_minor": 5,
  "metadata": {
    "kernelspec": {
      "name": "python3",
      "display_name": "Python 3 (ipykernel)",
      "language": "python"
    },
    "language_info": {
      "name": "python",
      "codemirror_mode": {
        "name": "ipython",
        "version": "3"
      },
      "file_extension": ".py",
      "mimetype": "text/x-python",
      "nbconvert_exporter": "python",
      "pygments_lexer": "ipython3",
      "version": "3.10.10"
    }
  }
}