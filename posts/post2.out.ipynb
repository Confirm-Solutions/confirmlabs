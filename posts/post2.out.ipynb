{
  "cells": [
    {
      "cell_type": "markdown",
      "metadata": {},
      "source": [
        "# A Quarto Page Layout Example\n",
        "\n",
        "Inspired by Tufte Handout, Using Quarto\n",
        "\n",
        "[advice on using notebooks and vscode with\n",
        "quarto](https://quarto.org/docs/tools/vscode-notebook.html)\n",
        "\n",
        "writing from a jupyter notebook `.ipynb` instead of `.qmd`."
      ],
      "id": "b1b6fccf-6a00-4fb5-a448-3532659b8bfb"
    },
    {
      "cell_type": "code",
      "execution_count": 2,
      "metadata": {},
      "outputs": [],
      "source": [
        "import numpy as np\n",
        "import matplotlib.pyplot as plt\n",
        "\n",
        "r = np.arange(0, 2, 0.01)\n",
        "theta = 2 * np.pi * r\n",
        "fig, ax = plt.subplots(\n",
        "  figsize=(2,2),\n",
        "  subplot_kw = {'projection': 'polar'} \n",
        ")\n",
        "ax.plot(theta, r)\n",
        "ax.set_rticks([0.5, 1, 1.5, 2])\n",
        "ax.grid(True)\n",
        "plt.show()"
      ],
      "id": "eee645e9-541d-4d09-a8d3-8ba02ab54576"
    }
  ],
  "nbformat": 4,
  "nbformat_minor": 5,
  "metadata": {
    "kernelspec": {
      "name": "python3",
      "display_name": "aiplay",
      "language": "python"
    },
    "language_info": {
      "name": "python",
      "codemirror_mode": {
        "name": "ipython",
        "version": "3"
      },
      "file_extension": ".py",
      "mimetype": "text/x-python",
      "nbconvert_exporter": "python",
      "pygments_lexer": "ipython3",
      "version": "3.10.10"
    },
    "orig_nbformat": "4"
  }
}