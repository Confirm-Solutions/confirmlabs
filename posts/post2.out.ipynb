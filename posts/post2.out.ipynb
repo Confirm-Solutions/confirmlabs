{
  "cells": [
    {
      "cell_type": "markdown",
      "metadata": {},
      "source": [
        "# vscode ipynb\n",
        "\n",
        "Inspired by Tufte Handout, Using Quarto\n",
        "\n",
        "[advice on using notebooks and vscode with\n",
        "quarto](https://quarto.org/docs/tools/vscode-notebook.html)\n",
        "\n",
        "writing from a jupyter notebook `.ipynb` instead of `.qmd`."
      ],
      "id": "54ed6da3-1a71-4f66-88b9-54b6bc8f5fc2"
    },
    {
      "cell_type": "code",
      "execution_count": 3,
      "metadata": {},
      "outputs": [],
      "source": [
        "import numpy as np\n",
        "import matplotlib.pyplot as plt\n",
        "\n",
        "x = np.random.normal(size=10000)\n",
        "plt.hist(x, bins=100)\n",
        "plt.show()"
      ],
      "id": "025b9af0-acfc-4f6f-a5bc-9ff2965b5608"
    },
    {
      "cell_type": "code",
      "execution_count": 6,
      "metadata": {},
      "outputs": [
        {
          "output_type": "display_data",
          "metadata": {},
          "data": {
            "text/html": [
              "\n",
              "</div>"
            ]
          }
        }
      ],
      "source": [
        "import pandas as pd\n",
        "iris = pd.read_csv('https://raw.githubusercontent.com/mwaskom/seaborn-data/master/iris.csv')\n",
        "iris.sample(10)"
      ],
      "id": "29d46998-5768-4888-9784-8ecc16301415"
    }
  ],
  "nbformat": 4,
  "nbformat_minor": 5,
  "metadata": {
    "kernelspec": {
      "name": "python3",
      "display_name": "aiplay",
      "language": "python"
    },
    "language_info": {
      "name": "python",
      "codemirror_mode": {
        "name": "ipython",
        "version": "3"
      },
      "file_extension": ".py",
      "mimetype": "text/x-python",
      "nbconvert_exporter": "python",
      "pygments_lexer": "ipython3",
      "version": "3.10.10"
    },
    "orig_nbformat": "4"
  }
}