{
  "cells": [
    {
      "cell_type": "markdown",
      "metadata": {},
      "source": [
        "# vscode ipynb\n",
        "\n",
        "Inspired by Tufte Handout, Using Quarto\n",
        "\n",
        "[advice on using notebooks and vscode with\n",
        "quarto](https://quarto.org/docs/tools/vscode-notebook.html)\n",
        "\n",
        "writing from a jupyter notebook `.ipynb` instead of `.qmd`."
      ],
      "id": "0b5ef4b6-75ee-4a6f-86f8-79aa30c31cb4"
    },
    {
      "cell_type": "code",
      "execution_count": 3,
      "metadata": {},
      "outputs": [],
      "source": [
        "import numpy as np\n",
        "import matplotlib.pyplot as plt\n",
        "\n",
        "x = np.random.normal(size=10000)\n",
        "plt.hist(x, bins=100)\n",
        "plt.show()"
      ],
      "id": "81097e43-145a-40e3-a6f0-0cc426a87097"
    },
    {
      "cell_type": "code",
      "execution_count": 6,
      "metadata": {},
      "outputs": [
        {
          "output_type": "display_data",
          "metadata": {},
          "data": {
            "text/html": [
              "\n",
              "</div>"
            ]
          }
        }
      ],
      "source": [
        "import pandas as pd\n",
        "iris = pd.read_csv('https://raw.githubusercontent.com/mwaskom/seaborn-data/master/iris.csv')\n",
        "iris.sample(10)"
      ],
      "id": "d9d46d48-6288-484e-9af0-d815d1104b0b"
    }
  ],
  "nbformat": 4,
  "nbformat_minor": 5,
  "metadata": {
    "kernelspec": {
      "name": "python3",
      "display_name": "aiplay",
      "language": "python"
    },
    "language_info": {
      "name": "python",
      "codemirror_mode": {
        "name": "ipython",
        "version": "3"
      },
      "file_extension": ".py",
      "mimetype": "text/x-python",
      "nbconvert_exporter": "python",
      "pygments_lexer": "ipython3",
      "version": "3.10.10"
    },
    "orig_nbformat": "4"
  }
}